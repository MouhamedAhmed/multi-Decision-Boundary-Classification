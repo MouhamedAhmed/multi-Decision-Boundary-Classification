{
 "cells": [
  {
   "cell_type": "code",
   "execution_count": 1,
   "metadata": {},
   "outputs": [],
   "source": [
    "import os\n",
    "import numpy as np\n",
    "import torch\n",
    "import torch.nn as nn\n",
    "import torch.nn.functional as F\n",
    "from torch.autograd import Variable\n",
    "import torch.utils.data as data\n",
    "import torchvision\n",
    "from torchvision import transforms"
   ]
  },
  {
   "cell_type": "code",
   "execution_count": 26,
   "metadata": {},
   "outputs": [
    {
     "name": "stdout",
     "output_type": "stream",
     "text": [
      "1777\n"
     ]
    }
   ],
   "source": [
    "BATCH_SIZE = 32\n",
    "TRANSFORM_IMG = transforms.Compose([\n",
    "    transforms.Resize(224),\n",
    "    transforms.CenterCrop(224),\n",
    "    transforms.ToTensor(),\n",
    "    transforms.Normalize(mean=[0.485, 0.456, 0.406],\n",
    "                         std=[0.229, 0.224, 0.225] )\n",
    "    ])\n",
    "\n",
    "dataset = torchvision.datasets.ImageFolder(root=\"70-20-LFW\", transform=TRANSFORM_IMG)\n",
    "train_set , test_set = torch.utils.data.random_split(dataset, [int(np.round(len(dataset)*0.8)),int(np.round(len(dataset)*0.2))])\n",
    "trainloader = data.DataLoader(train_set, batch_size=BATCH_SIZE, shuffle=True,  num_workers=4)\n",
    "testloader = data.DataLoader(test_set, batch_size=BATCH_SIZE, shuffle=True,  num_workers=4)\n",
    "\n",
    "\n",
    "print(len(dataset))\n",
    "# print(dataloader.size())"
   ]
  },
  {
   "cell_type": "code",
   "execution_count": 29,
   "metadata": {},
   "outputs": [
    {
     "name": "stdout",
     "output_type": "stream",
     "text": [
      "torch.Size([32, 3, 224, 224])\n",
      "torch.Size([32])\n",
      "torch.Size([32, 3, 224, 224])\n",
      "torch.Size([32])\n",
      "torch.Size([32, 3, 224, 224])\n",
      "torch.Size([32])\n",
      "torch.Size([32, 3, 224, 224])\n",
      "torch.Size([32])\n",
      "torch.Size([32, 3, 224, 224])\n",
      "torch.Size([32])\n",
      "torch.Size([32, 3, 224, 224])\n",
      "torch.Size([32])\n",
      "torch.Size([32, 3, 224, 224])\n",
      "torch.Size([32])\n",
      "torch.Size([32, 3, 224, 224])\n",
      "torch.Size([32])\n",
      "torch.Size([32, 3, 224, 224])\n",
      "torch.Size([32])\n",
      "torch.Size([32, 3, 224, 224])\n",
      "torch.Size([32])\n",
      "torch.Size([32, 3, 224, 224])\n",
      "torch.Size([32])\n",
      "torch.Size([32, 3, 224, 224])\n",
      "torch.Size([32])\n",
      "torch.Size([32, 3, 224, 224])\n",
      "torch.Size([32])\n",
      "torch.Size([32, 3, 224, 224])\n",
      "torch.Size([32])\n",
      "torch.Size([32, 3, 224, 224])\n",
      "torch.Size([32])\n",
      "torch.Size([32, 3, 224, 224])\n",
      "torch.Size([32])\n",
      "torch.Size([32, 3, 224, 224])\n",
      "torch.Size([32])\n",
      "torch.Size([32, 3, 224, 224])\n",
      "torch.Size([32])\n",
      "torch.Size([32, 3, 224, 224])\n",
      "torch.Size([32])\n",
      "torch.Size([32, 3, 224, 224])\n",
      "torch.Size([32])\n",
      "torch.Size([32, 3, 224, 224])\n",
      "torch.Size([32])\n",
      "torch.Size([32, 3, 224, 224])\n",
      "torch.Size([32])\n",
      "torch.Size([32, 3, 224, 224])\n",
      "torch.Size([32])\n",
      "torch.Size([32, 3, 224, 224])\n",
      "torch.Size([32])\n",
      "torch.Size([32, 3, 224, 224])\n",
      "torch.Size([32])\n",
      "torch.Size([32, 3, 224, 224])\n",
      "torch.Size([32])\n",
      "torch.Size([32, 3, 224, 224])\n",
      "torch.Size([32])\n",
      "torch.Size([32, 3, 224, 224])\n",
      "torch.Size([32])\n",
      "torch.Size([32, 3, 224, 224])\n",
      "torch.Size([32])\n",
      "torch.Size([32, 3, 224, 224])\n",
      "torch.Size([32])\n",
      "torch.Size([32, 3, 224, 224])\n",
      "torch.Size([32])\n",
      "torch.Size([32, 3, 224, 224])\n",
      "torch.Size([32])\n",
      "torch.Size([32, 3, 224, 224])\n",
      "torch.Size([32])\n",
      "torch.Size([32, 3, 224, 224])\n",
      "torch.Size([32])\n",
      "torch.Size([32, 3, 224, 224])\n",
      "torch.Size([32])\n",
      "torch.Size([32, 3, 224, 224])\n",
      "torch.Size([32])\n",
      "torch.Size([32, 3, 224, 224])\n",
      "torch.Size([32])\n",
      "torch.Size([32, 3, 224, 224])\n",
      "torch.Size([32])\n",
      "torch.Size([32, 3, 224, 224])\n",
      "torch.Size([32])\n",
      "torch.Size([32, 3, 224, 224])\n",
      "torch.Size([32])\n",
      "torch.Size([32, 3, 224, 224])\n",
      "torch.Size([32])\n",
      "torch.Size([32, 3, 224, 224])\n",
      "torch.Size([32])\n",
      "torch.Size([32, 3, 224, 224])\n",
      "torch.Size([32])\n",
      "torch.Size([32, 3, 224, 224])\n",
      "torch.Size([32])\n",
      "torch.Size([14, 3, 224, 224])\n",
      "torch.Size([14])\n"
     ]
    }
   ],
   "source": [
    "for batch_idx, (data, target) in enumerate(trainloader):\n",
    "    # move to GPU\n",
    "    print(data.size())\n",
    "    print(target.size())\n",
    "#     optimizer.zero_grad()\n",
    "#     output = model(data)\n",
    "#     loss = criterion(output,target)\n",
    "#     loss.backward()\n",
    "#     optimizer.step()\n",
    "#     train_loss += loss.data"
   ]
  },
  {
   "cell_type": "code",
   "execution_count": null,
   "metadata": {},
   "outputs": [],
   "source": [
    "import torch.nn as nn\n",
    "import torch.nn.functional as F\n",
    "i = np.random.rand(16,3,128,128)\n",
    "t = torch.from_numpy(i).to('cuda')\n",
    "F.softmax(t,dim = 1)"
   ]
  },
  {
   "cell_type": "code",
   "execution_count": null,
   "metadata": {},
   "outputs": [],
   "source": []
  }
 ],
 "metadata": {
  "kernelspec": {
   "display_name": "Python 3",
   "language": "python",
   "name": "python3"
  }
 },
 "nbformat": 4,
 "nbformat_minor": 4
}
